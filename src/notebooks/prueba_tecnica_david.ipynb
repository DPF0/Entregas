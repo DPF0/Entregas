{
 "cells": [
  {
   "cell_type": "markdown",
   "metadata": {},
   "source": [
    "# Prueba técnica David Pernas"
   ]
  },
  {
   "cell_type": "code",
   "execution_count": 104,
   "metadata": {},
   "outputs": [],
   "source": [
    "import pandas as pd\n",
    "import numpy as np\n",
    "import matplotlib.pyplot as plt\n",
    "import seaborn as sns"
   ]
  },
  {
   "cell_type": "code",
   "execution_count": 105,
   "metadata": {},
   "outputs": [],
   "source": [
    "tweets_newer_df = pd.read_csv('../data/tweets_newer.csv')\n",
    "tweets_older_df = pd.read_csv('../data/tweets_older.csv')\n",
    "users_df = pd.read_csv('../data/users.csv')"
   ]
  },
  {
   "cell_type": "code",
   "execution_count": 106,
   "metadata": {},
   "outputs": [
    {
     "data": {
      "text/html": [
       "<div>\n",
       "<style scoped>\n",
       "    .dataframe tbody tr th:only-of-type {\n",
       "        vertical-align: middle;\n",
       "    }\n",
       "\n",
       "    .dataframe tbody tr th {\n",
       "        vertical-align: top;\n",
       "    }\n",
       "\n",
       "    .dataframe thead th {\n",
       "        text-align: right;\n",
       "    }\n",
       "</style>\n",
       "<table border=\"1\" class=\"dataframe\">\n",
       "  <thead>\n",
       "    <tr style=\"text-align: right;\">\n",
       "      <th></th>\n",
       "      <th>id</th>\n",
       "      <th>contenido</th>\n",
       "      <th>fecha_publicacion</th>\n",
       "      <th>usuario_id</th>\n",
       "      <th>retweets</th>\n",
       "      <th>replies</th>\n",
       "      <th>likes</th>\n",
       "      <th>quotes</th>\n",
       "    </tr>\n",
       "  </thead>\n",
       "  <tbody>\n",
       "    <tr>\n",
       "      <th>0</th>\n",
       "      <td>1625126689150738438</td>\n",
       "      <td>Les compartimos un mini resumen del 1º encuent...</td>\n",
       "      <td>2023-02-13 13:36:10</td>\n",
       "      <td>4899284631</td>\n",
       "      <td>0</td>\n",
       "      <td>0</td>\n",
       "      <td>2</td>\n",
       "      <td>1</td>\n",
       "    </tr>\n",
       "    <tr>\n",
       "      <th>1</th>\n",
       "      <td>1625165984414695426</td>\n",
       "      <td>¡Nos vamos al WorkinLan Workshop en Bilbao jun...</td>\n",
       "      <td>2023-02-13 16:12:19</td>\n",
       "      <td>1162694149956603904</td>\n",
       "      <td>2</td>\n",
       "      <td>0</td>\n",
       "      <td>1</td>\n",
       "      <td>0</td>\n",
       "    </tr>\n",
       "    <tr>\n",
       "      <th>2</th>\n",
       "      <td>1625813763751305216</td>\n",
       "      <td>Gracias a nuestros amigos @TheBridge_Tech por ...</td>\n",
       "      <td>2023-02-15 11:06:22</td>\n",
       "      <td>1530194743786881024</td>\n",
       "      <td>2</td>\n",
       "      <td>1</td>\n",
       "      <td>10</td>\n",
       "      <td>0</td>\n",
       "    </tr>\n",
       "    <tr>\n",
       "      <th>3</th>\n",
       "      <td>1625825721862987777</td>\n",
       "      <td>@BitcoinTuesday_ ¡Un placer!</td>\n",
       "      <td>2023-02-15 11:53:53</td>\n",
       "      <td>1162694149956603904</td>\n",
       "      <td>0</td>\n",
       "      <td>0</td>\n",
       "      <td>2</td>\n",
       "      <td>0</td>\n",
       "    </tr>\n",
       "    <tr>\n",
       "      <th>4</th>\n",
       "      <td>1625828554691805187</td>\n",
       "      <td>¿Los colores tienen género?¿podemos hacer una ...</td>\n",
       "      <td>2023-02-15 12:05:08</td>\n",
       "      <td>1162694149956603904</td>\n",
       "      <td>2</td>\n",
       "      <td>1</td>\n",
       "      <td>2</td>\n",
       "      <td>0</td>\n",
       "    </tr>\n",
       "  </tbody>\n",
       "</table>\n",
       "</div>"
      ],
      "text/plain": [
       "                    id                                          contenido  \\\n",
       "0  1625126689150738438  Les compartimos un mini resumen del 1º encuent...   \n",
       "1  1625165984414695426  ¡Nos vamos al WorkinLan Workshop en Bilbao jun...   \n",
       "2  1625813763751305216  Gracias a nuestros amigos @TheBridge_Tech por ...   \n",
       "3  1625825721862987777                       @BitcoinTuesday_ ¡Un placer!   \n",
       "4  1625828554691805187  ¿Los colores tienen género?¿podemos hacer una ...   \n",
       "\n",
       "     fecha_publicacion           usuario_id  retweets  replies  likes  quotes  \n",
       "0  2023-02-13 13:36:10           4899284631         0        0      2       1  \n",
       "1  2023-02-13 16:12:19  1162694149956603904         2        0      1       0  \n",
       "2  2023-02-15 11:06:22  1530194743786881024         2        1     10       0  \n",
       "3  2023-02-15 11:53:53  1162694149956603904         0        0      2       0  \n",
       "4  2023-02-15 12:05:08  1162694149956603904         2        1      2       0  "
      ]
     },
     "execution_count": 106,
     "metadata": {},
     "output_type": "execute_result"
    }
   ],
   "source": [
    "tweets_newer_df.head()"
   ]
  },
  {
   "cell_type": "code",
   "execution_count": 107,
   "metadata": {},
   "outputs": [
    {
     "name": "stdout",
     "output_type": "stream",
     "text": [
      "<class 'pandas.core.frame.DataFrame'>\n",
      "RangeIndex: 143 entries, 0 to 142\n",
      "Data columns (total 8 columns):\n",
      " #   Column             Non-Null Count  Dtype \n",
      "---  ------             --------------  ----- \n",
      " 0   id                 143 non-null    int64 \n",
      " 1   contenido          143 non-null    object\n",
      " 2   fecha_publicacion  143 non-null    object\n",
      " 3   usuario_id         143 non-null    int64 \n",
      " 4   retweets           143 non-null    int64 \n",
      " 5   replies            143 non-null    int64 \n",
      " 6   likes              143 non-null    int64 \n",
      " 7   quotes             143 non-null    int64 \n",
      "dtypes: int64(6), object(2)\n",
      "memory usage: 9.1+ KB\n"
     ]
    }
   ],
   "source": [
    "tweets_newer_df.info()"
   ]
  },
  {
   "cell_type": "code",
   "execution_count": 108,
   "metadata": {},
   "outputs": [
    {
     "data": {
      "text/html": [
       "<div>\n",
       "<style scoped>\n",
       "    .dataframe tbody tr th:only-of-type {\n",
       "        vertical-align: middle;\n",
       "    }\n",
       "\n",
       "    .dataframe tbody tr th {\n",
       "        vertical-align: top;\n",
       "    }\n",
       "\n",
       "    .dataframe thead th {\n",
       "        text-align: right;\n",
       "    }\n",
       "</style>\n",
       "<table border=\"1\" class=\"dataframe\">\n",
       "  <thead>\n",
       "    <tr style=\"text-align: right;\">\n",
       "      <th></th>\n",
       "      <th>Unnamed: 0</th>\n",
       "      <th>Date</th>\n",
       "      <th>User</th>\n",
       "      <th>Tweet</th>\n",
       "      <th>Likes</th>\n",
       "      <th>Retweets</th>\n",
       "      <th>Replies</th>\n",
       "    </tr>\n",
       "  </thead>\n",
       "  <tbody>\n",
       "    <tr>\n",
       "      <th>0</th>\n",
       "      <td>0</td>\n",
       "      <td>2022-05-19 15:39:16+00:00</td>\n",
       "      <td>TheBridge_Tech</td>\n",
       "      <td>¡Qué poco queda para el próximo 🔥Burn Monday🔥!...</td>\n",
       "      <td>0</td>\n",
       "      <td>2</td>\n",
       "      <td>0</td>\n",
       "    </tr>\n",
       "    <tr>\n",
       "      <th>1</th>\n",
       "      <td>1</td>\n",
       "      <td>2022-05-18 15:23:22+00:00</td>\n",
       "      <td>TheBridge_Tech</td>\n",
       "      <td>Esta es la historia de Isis🤗 que decidió hacer...</td>\n",
       "      <td>0</td>\n",
       "      <td>0</td>\n",
       "      <td>0</td>\n",
       "    </tr>\n",
       "    <tr>\n",
       "      <th>2</th>\n",
       "      <td>2</td>\n",
       "      <td>2022-05-18 11:26:31+00:00</td>\n",
       "      <td>TheBridge_Tech</td>\n",
       "      <td>Gracias @victorianoI y equipo por el análisis ...</td>\n",
       "      <td>0</td>\n",
       "      <td>0</td>\n",
       "      <td>0</td>\n",
       "    </tr>\n",
       "    <tr>\n",
       "      <th>3</th>\n",
       "      <td>3</td>\n",
       "      <td>2022-05-18 08:31:13+00:00</td>\n",
       "      <td>Bcasapp</td>\n",
       "      <td>¿Cómo combatir el paro juvenil🥵? #tipdeldia En...</td>\n",
       "      <td>8</td>\n",
       "      <td>4</td>\n",
       "      <td>1</td>\n",
       "    </tr>\n",
       "    <tr>\n",
       "      <th>4</th>\n",
       "      <td>4</td>\n",
       "      <td>2022-05-17 14:53:47+00:00</td>\n",
       "      <td>TheBridge_Tech</td>\n",
       "      <td>¿Con ganas de probar si un empleo tecnológico ...</td>\n",
       "      <td>2</td>\n",
       "      <td>2</td>\n",
       "      <td>0</td>\n",
       "    </tr>\n",
       "  </tbody>\n",
       "</table>\n",
       "</div>"
      ],
      "text/plain": [
       "   Unnamed: 0                       Date            User  \\\n",
       "0           0  2022-05-19 15:39:16+00:00  TheBridge_Tech   \n",
       "1           1  2022-05-18 15:23:22+00:00  TheBridge_Tech   \n",
       "2           2  2022-05-18 11:26:31+00:00  TheBridge_Tech   \n",
       "3           3  2022-05-18 08:31:13+00:00         Bcasapp   \n",
       "4           4  2022-05-17 14:53:47+00:00  TheBridge_Tech   \n",
       "\n",
       "                                               Tweet  Likes  Retweets  Replies  \n",
       "0  ¡Qué poco queda para el próximo 🔥Burn Monday🔥!...      0         2        0  \n",
       "1  Esta es la historia de Isis🤗 que decidió hacer...      0         0        0  \n",
       "2  Gracias @victorianoI y equipo por el análisis ...      0         0        0  \n",
       "3  ¿Cómo combatir el paro juvenil🥵? #tipdeldia En...      8         4        1  \n",
       "4  ¿Con ganas de probar si un empleo tecnológico ...      2         2        0  "
      ]
     },
     "execution_count": 108,
     "metadata": {},
     "output_type": "execute_result"
    }
   ],
   "source": [
    "tweets_older_df.head()"
   ]
  },
  {
   "cell_type": "code",
   "execution_count": 109,
   "metadata": {},
   "outputs": [
    {
     "name": "stdout",
     "output_type": "stream",
     "text": [
      "<class 'pandas.core.frame.DataFrame'>\n",
      "RangeIndex: 134 entries, 0 to 133\n",
      "Data columns (total 7 columns):\n",
      " #   Column      Non-Null Count  Dtype \n",
      "---  ------      --------------  ----- \n",
      " 0   Unnamed: 0  134 non-null    int64 \n",
      " 1   Date        134 non-null    object\n",
      " 2   User        134 non-null    object\n",
      " 3   Tweet       134 non-null    object\n",
      " 4   Likes       134 non-null    int64 \n",
      " 5   Retweets    134 non-null    int64 \n",
      " 6   Replies     134 non-null    int64 \n",
      "dtypes: int64(4), object(3)\n",
      "memory usage: 7.5+ KB\n"
     ]
    }
   ],
   "source": [
    "tweets_older_df.info()"
   ]
  },
  {
   "cell_type": "code",
   "execution_count": 110,
   "metadata": {},
   "outputs": [
    {
     "data": {
      "text/html": [
       "<div>\n",
       "<style scoped>\n",
       "    .dataframe tbody tr th:only-of-type {\n",
       "        vertical-align: middle;\n",
       "    }\n",
       "\n",
       "    .dataframe tbody tr th {\n",
       "        vertical-align: top;\n",
       "    }\n",
       "\n",
       "    .dataframe thead th {\n",
       "        text-align: right;\n",
       "    }\n",
       "</style>\n",
       "<table border=\"1\" class=\"dataframe\">\n",
       "  <thead>\n",
       "    <tr style=\"text-align: right;\">\n",
       "      <th></th>\n",
       "      <th>id</th>\n",
       "      <th>nombre</th>\n",
       "      <th>nombre_usuario</th>\n",
       "    </tr>\n",
       "  </thead>\n",
       "  <tbody>\n",
       "    <tr>\n",
       "      <th>0</th>\n",
       "      <td>987047282</td>\n",
       "      <td>A3Sec</td>\n",
       "      <td>a3sec</td>\n",
       "    </tr>\n",
       "    <tr>\n",
       "      <th>1</th>\n",
       "      <td>1162694149956603904</td>\n",
       "      <td>The Bridge</td>\n",
       "      <td>TheBridge_Tech</td>\n",
       "    </tr>\n",
       "    <tr>\n",
       "      <th>2</th>\n",
       "      <td>41545659</td>\n",
       "      <td>Mario Lopez de Avila</td>\n",
       "      <td>nodosenlared</td>\n",
       "    </tr>\n",
       "    <tr>\n",
       "      <th>3</th>\n",
       "      <td>1162694149956603904</td>\n",
       "      <td>The Bridge</td>\n",
       "      <td>TheBridge_Tech</td>\n",
       "    </tr>\n",
       "    <tr>\n",
       "      <th>4</th>\n",
       "      <td>1162694149956603904</td>\n",
       "      <td>The Bridge</td>\n",
       "      <td>TheBridge_Tech</td>\n",
       "    </tr>\n",
       "  </tbody>\n",
       "</table>\n",
       "</div>"
      ],
      "text/plain": [
       "                    id                nombre  nombre_usuario\n",
       "0            987047282                 A3Sec           a3sec\n",
       "1  1162694149956603904            The Bridge  TheBridge_Tech\n",
       "2             41545659  Mario Lopez de Avila    nodosenlared\n",
       "3  1162694149956603904            The Bridge  TheBridge_Tech\n",
       "4  1162694149956603904            The Bridge  TheBridge_Tech"
      ]
     },
     "execution_count": 110,
     "metadata": {},
     "output_type": "execute_result"
    }
   ],
   "source": [
    "users_df.head()"
   ]
  },
  {
   "cell_type": "code",
   "execution_count": 111,
   "metadata": {},
   "outputs": [
    {
     "name": "stdout",
     "output_type": "stream",
     "text": [
      "<class 'pandas.core.frame.DataFrame'>\n",
      "RangeIndex: 143 entries, 0 to 142\n",
      "Data columns (total 3 columns):\n",
      " #   Column          Non-Null Count  Dtype \n",
      "---  ------          --------------  ----- \n",
      " 0   id              143 non-null    int64 \n",
      " 1   nombre          143 non-null    object\n",
      " 2   nombre_usuario  143 non-null    object\n",
      "dtypes: int64(1), object(2)\n",
      "memory usage: 3.5+ KB\n"
     ]
    }
   ],
   "source": [
    "users_df.info()"
   ]
  },
  {
   "cell_type": "code",
   "execution_count": 112,
   "metadata": {},
   "outputs": [],
   "source": [
    "users_df.drop_duplicates(keep= 'first', inplace= True)"
   ]
  },
  {
   "cell_type": "code",
   "execution_count": 113,
   "metadata": {},
   "outputs": [
    {
     "name": "stdout",
     "output_type": "stream",
     "text": [
      "<class 'pandas.core.frame.DataFrame'>\n",
      "Int64Index: 38 entries, 0 to 140\n",
      "Data columns (total 3 columns):\n",
      " #   Column          Non-Null Count  Dtype \n",
      "---  ------          --------------  ----- \n",
      " 0   id              38 non-null     int64 \n",
      " 1   nombre          38 non-null     object\n",
      " 2   nombre_usuario  38 non-null     object\n",
      "dtypes: int64(1), object(2)\n",
      "memory usage: 1.2+ KB\n"
     ]
    }
   ],
   "source": [
    "users_df.info()"
   ]
  },
  {
   "cell_type": "code",
   "execution_count": 114,
   "metadata": {},
   "outputs": [],
   "source": [
    "tweets_newer_df.drop(columns= ['quotes', 'id'], inplace= True)"
   ]
  },
  {
   "cell_type": "code",
   "execution_count": 115,
   "metadata": {},
   "outputs": [
    {
     "data": {
      "text/html": [
       "<div>\n",
       "<style scoped>\n",
       "    .dataframe tbody tr th:only-of-type {\n",
       "        vertical-align: middle;\n",
       "    }\n",
       "\n",
       "    .dataframe tbody tr th {\n",
       "        vertical-align: top;\n",
       "    }\n",
       "\n",
       "    .dataframe thead th {\n",
       "        text-align: right;\n",
       "    }\n",
       "</style>\n",
       "<table border=\"1\" class=\"dataframe\">\n",
       "  <thead>\n",
       "    <tr style=\"text-align: right;\">\n",
       "      <th></th>\n",
       "      <th>contenido</th>\n",
       "      <th>fecha_publicacion</th>\n",
       "      <th>usuario_id</th>\n",
       "      <th>retweets</th>\n",
       "      <th>replies</th>\n",
       "      <th>likes</th>\n",
       "    </tr>\n",
       "  </thead>\n",
       "  <tbody>\n",
       "    <tr>\n",
       "      <th>0</th>\n",
       "      <td>Les compartimos un mini resumen del 1º encuent...</td>\n",
       "      <td>2023-02-13 13:36:10</td>\n",
       "      <td>4899284631</td>\n",
       "      <td>0</td>\n",
       "      <td>0</td>\n",
       "      <td>2</td>\n",
       "    </tr>\n",
       "    <tr>\n",
       "      <th>1</th>\n",
       "      <td>¡Nos vamos al WorkinLan Workshop en Bilbao jun...</td>\n",
       "      <td>2023-02-13 16:12:19</td>\n",
       "      <td>1162694149956603904</td>\n",
       "      <td>2</td>\n",
       "      <td>0</td>\n",
       "      <td>1</td>\n",
       "    </tr>\n",
       "    <tr>\n",
       "      <th>2</th>\n",
       "      <td>Gracias a nuestros amigos @TheBridge_Tech por ...</td>\n",
       "      <td>2023-02-15 11:06:22</td>\n",
       "      <td>1530194743786881024</td>\n",
       "      <td>2</td>\n",
       "      <td>1</td>\n",
       "      <td>10</td>\n",
       "    </tr>\n",
       "    <tr>\n",
       "      <th>3</th>\n",
       "      <td>@BitcoinTuesday_ ¡Un placer!</td>\n",
       "      <td>2023-02-15 11:53:53</td>\n",
       "      <td>1162694149956603904</td>\n",
       "      <td>0</td>\n",
       "      <td>0</td>\n",
       "      <td>2</td>\n",
       "    </tr>\n",
       "    <tr>\n",
       "      <th>4</th>\n",
       "      <td>¿Los colores tienen género?¿podemos hacer una ...</td>\n",
       "      <td>2023-02-15 12:05:08</td>\n",
       "      <td>1162694149956603904</td>\n",
       "      <td>2</td>\n",
       "      <td>1</td>\n",
       "      <td>2</td>\n",
       "    </tr>\n",
       "  </tbody>\n",
       "</table>\n",
       "</div>"
      ],
      "text/plain": [
       "                                           contenido    fecha_publicacion  \\\n",
       "0  Les compartimos un mini resumen del 1º encuent...  2023-02-13 13:36:10   \n",
       "1  ¡Nos vamos al WorkinLan Workshop en Bilbao jun...  2023-02-13 16:12:19   \n",
       "2  Gracias a nuestros amigos @TheBridge_Tech por ...  2023-02-15 11:06:22   \n",
       "3                       @BitcoinTuesday_ ¡Un placer!  2023-02-15 11:53:53   \n",
       "4  ¿Los colores tienen género?¿podemos hacer una ...  2023-02-15 12:05:08   \n",
       "\n",
       "            usuario_id  retweets  replies  likes  \n",
       "0           4899284631         0        0      2  \n",
       "1  1162694149956603904         2        0      1  \n",
       "2  1530194743786881024         2        1     10  \n",
       "3  1162694149956603904         0        0      2  \n",
       "4  1162694149956603904         2        1      2  "
      ]
     },
     "execution_count": 115,
     "metadata": {},
     "output_type": "execute_result"
    }
   ],
   "source": [
    "tweets_newer_df.head()"
   ]
  },
  {
   "cell_type": "code",
   "execution_count": 116,
   "metadata": {},
   "outputs": [],
   "source": [
    "tweets_older_df.drop(columns= 'Unnamed: 0', inplace= True)"
   ]
  },
  {
   "cell_type": "code",
   "execution_count": 117,
   "metadata": {},
   "outputs": [],
   "source": [
    "merged_df = pd.merge(tweets_newer_df, users_df[['id', 'nombre_usuario']], left_on='usuario_id', right_on='id', how='left')\n",
    "tweets_newer_df['user'] = merged_df['nombre_usuario']"
   ]
  },
  {
   "cell_type": "code",
   "execution_count": 118,
   "metadata": {},
   "outputs": [],
   "source": [
    "tweets_newer_df = merged_df.copy()"
   ]
  },
  {
   "cell_type": "code",
   "execution_count": 119,
   "metadata": {},
   "outputs": [],
   "source": [
    "tweets_newer_df.drop(columns= 'usuario_id', inplace= True)"
   ]
  },
  {
   "cell_type": "code",
   "execution_count": 120,
   "metadata": {},
   "outputs": [],
   "source": [
    "tweets_newer_df = tweets_newer_df.rename(columns= {'contenido': 'Tweet', 'fecha_publicacion': 'Date', 'retweets': 'Retweets',\n",
    "                                                    'replies': 'Replies', 'likes': 'Likes', 'nombre_usuario': 'User'})"
   ]
  },
  {
   "cell_type": "code",
   "execution_count": 121,
   "metadata": {},
   "outputs": [
    {
     "data": {
      "text/html": [
       "<div>\n",
       "<style scoped>\n",
       "    .dataframe tbody tr th:only-of-type {\n",
       "        vertical-align: middle;\n",
       "    }\n",
       "\n",
       "    .dataframe tbody tr th {\n",
       "        vertical-align: top;\n",
       "    }\n",
       "\n",
       "    .dataframe thead th {\n",
       "        text-align: right;\n",
       "    }\n",
       "</style>\n",
       "<table border=\"1\" class=\"dataframe\">\n",
       "  <thead>\n",
       "    <tr style=\"text-align: right;\">\n",
       "      <th></th>\n",
       "      <th>Tweet</th>\n",
       "      <th>Date</th>\n",
       "      <th>Retweets</th>\n",
       "      <th>Replies</th>\n",
       "      <th>Likes</th>\n",
       "      <th>id</th>\n",
       "      <th>User</th>\n",
       "    </tr>\n",
       "  </thead>\n",
       "  <tbody>\n",
       "    <tr>\n",
       "      <th>0</th>\n",
       "      <td>Les compartimos un mini resumen del 1º encuent...</td>\n",
       "      <td>2023-02-13 13:36:10</td>\n",
       "      <td>0</td>\n",
       "      <td>0</td>\n",
       "      <td>2</td>\n",
       "      <td>4899284631</td>\n",
       "      <td>my_tech_plan</td>\n",
       "    </tr>\n",
       "    <tr>\n",
       "      <th>1</th>\n",
       "      <td>¡Nos vamos al WorkinLan Workshop en Bilbao jun...</td>\n",
       "      <td>2023-02-13 16:12:19</td>\n",
       "      <td>2</td>\n",
       "      <td>0</td>\n",
       "      <td>1</td>\n",
       "      <td>1162694149956603904</td>\n",
       "      <td>TheBridge_Tech</td>\n",
       "    </tr>\n",
       "    <tr>\n",
       "      <th>2</th>\n",
       "      <td>Gracias a nuestros amigos @TheBridge_Tech por ...</td>\n",
       "      <td>2023-02-15 11:06:22</td>\n",
       "      <td>2</td>\n",
       "      <td>1</td>\n",
       "      <td>10</td>\n",
       "      <td>1530194743786881024</td>\n",
       "      <td>BitcoinTuesday_</td>\n",
       "    </tr>\n",
       "    <tr>\n",
       "      <th>3</th>\n",
       "      <td>@BitcoinTuesday_ ¡Un placer!</td>\n",
       "      <td>2023-02-15 11:53:53</td>\n",
       "      <td>0</td>\n",
       "      <td>0</td>\n",
       "      <td>2</td>\n",
       "      <td>1162694149956603904</td>\n",
       "      <td>TheBridge_Tech</td>\n",
       "    </tr>\n",
       "    <tr>\n",
       "      <th>4</th>\n",
       "      <td>¿Los colores tienen género?¿podemos hacer una ...</td>\n",
       "      <td>2023-02-15 12:05:08</td>\n",
       "      <td>2</td>\n",
       "      <td>1</td>\n",
       "      <td>2</td>\n",
       "      <td>1162694149956603904</td>\n",
       "      <td>TheBridge_Tech</td>\n",
       "    </tr>\n",
       "  </tbody>\n",
       "</table>\n",
       "</div>"
      ],
      "text/plain": [
       "                                               Tweet                 Date  \\\n",
       "0  Les compartimos un mini resumen del 1º encuent...  2023-02-13 13:36:10   \n",
       "1  ¡Nos vamos al WorkinLan Workshop en Bilbao jun...  2023-02-13 16:12:19   \n",
       "2  Gracias a nuestros amigos @TheBridge_Tech por ...  2023-02-15 11:06:22   \n",
       "3                       @BitcoinTuesday_ ¡Un placer!  2023-02-15 11:53:53   \n",
       "4  ¿Los colores tienen género?¿podemos hacer una ...  2023-02-15 12:05:08   \n",
       "\n",
       "   Retweets  Replies  Likes                   id             User  \n",
       "0         0        0      2           4899284631     my_tech_plan  \n",
       "1         2        0      1  1162694149956603904   TheBridge_Tech  \n",
       "2         2        1     10  1530194743786881024  BitcoinTuesday_  \n",
       "3         0        0      2  1162694149956603904   TheBridge_Tech  \n",
       "4         2        1      2  1162694149956603904   TheBridge_Tech  "
      ]
     },
     "execution_count": 121,
     "metadata": {},
     "output_type": "execute_result"
    }
   ],
   "source": [
    "tweets_newer_df.head()"
   ]
  },
  {
   "cell_type": "code",
   "execution_count": 122,
   "metadata": {},
   "outputs": [
    {
     "data": {
      "text/html": [
       "<div>\n",
       "<style scoped>\n",
       "    .dataframe tbody tr th:only-of-type {\n",
       "        vertical-align: middle;\n",
       "    }\n",
       "\n",
       "    .dataframe tbody tr th {\n",
       "        vertical-align: top;\n",
       "    }\n",
       "\n",
       "    .dataframe thead th {\n",
       "        text-align: right;\n",
       "    }\n",
       "</style>\n",
       "<table border=\"1\" class=\"dataframe\">\n",
       "  <thead>\n",
       "    <tr style=\"text-align: right;\">\n",
       "      <th></th>\n",
       "      <th>Date</th>\n",
       "      <th>User</th>\n",
       "      <th>Tweet</th>\n",
       "      <th>Likes</th>\n",
       "      <th>Retweets</th>\n",
       "      <th>Replies</th>\n",
       "    </tr>\n",
       "  </thead>\n",
       "  <tbody>\n",
       "    <tr>\n",
       "      <th>0</th>\n",
       "      <td>2022-05-19 15:39:16+00:00</td>\n",
       "      <td>TheBridge_Tech</td>\n",
       "      <td>¡Qué poco queda para el próximo 🔥Burn Monday🔥!...</td>\n",
       "      <td>0</td>\n",
       "      <td>2</td>\n",
       "      <td>0</td>\n",
       "    </tr>\n",
       "    <tr>\n",
       "      <th>1</th>\n",
       "      <td>2022-05-18 15:23:22+00:00</td>\n",
       "      <td>TheBridge_Tech</td>\n",
       "      <td>Esta es la historia de Isis🤗 que decidió hacer...</td>\n",
       "      <td>0</td>\n",
       "      <td>0</td>\n",
       "      <td>0</td>\n",
       "    </tr>\n",
       "    <tr>\n",
       "      <th>2</th>\n",
       "      <td>2022-05-18 11:26:31+00:00</td>\n",
       "      <td>TheBridge_Tech</td>\n",
       "      <td>Gracias @victorianoI y equipo por el análisis ...</td>\n",
       "      <td>0</td>\n",
       "      <td>0</td>\n",
       "      <td>0</td>\n",
       "    </tr>\n",
       "    <tr>\n",
       "      <th>3</th>\n",
       "      <td>2022-05-18 08:31:13+00:00</td>\n",
       "      <td>Bcasapp</td>\n",
       "      <td>¿Cómo combatir el paro juvenil🥵? #tipdeldia En...</td>\n",
       "      <td>8</td>\n",
       "      <td>4</td>\n",
       "      <td>1</td>\n",
       "    </tr>\n",
       "    <tr>\n",
       "      <th>4</th>\n",
       "      <td>2022-05-17 14:53:47+00:00</td>\n",
       "      <td>TheBridge_Tech</td>\n",
       "      <td>¿Con ganas de probar si un empleo tecnológico ...</td>\n",
       "      <td>2</td>\n",
       "      <td>2</td>\n",
       "      <td>0</td>\n",
       "    </tr>\n",
       "  </tbody>\n",
       "</table>\n",
       "</div>"
      ],
      "text/plain": [
       "                        Date            User  \\\n",
       "0  2022-05-19 15:39:16+00:00  TheBridge_Tech   \n",
       "1  2022-05-18 15:23:22+00:00  TheBridge_Tech   \n",
       "2  2022-05-18 11:26:31+00:00  TheBridge_Tech   \n",
       "3  2022-05-18 08:31:13+00:00         Bcasapp   \n",
       "4  2022-05-17 14:53:47+00:00  TheBridge_Tech   \n",
       "\n",
       "                                               Tweet  Likes  Retweets  Replies  \n",
       "0  ¡Qué poco queda para el próximo 🔥Burn Monday🔥!...      0         2        0  \n",
       "1  Esta es la historia de Isis🤗 que decidió hacer...      0         0        0  \n",
       "2  Gracias @victorianoI y equipo por el análisis ...      0         0        0  \n",
       "3  ¿Cómo combatir el paro juvenil🥵? #tipdeldia En...      8         4        1  \n",
       "4  ¿Con ganas de probar si un empleo tecnológico ...      2         2        0  "
      ]
     },
     "execution_count": 122,
     "metadata": {},
     "output_type": "execute_result"
    }
   ],
   "source": [
    "tweets_older_df.head()"
   ]
  },
  {
   "cell_type": "code",
   "execution_count": 123,
   "metadata": {},
   "outputs": [],
   "source": [
    "tweets_older_df['Date'] = tweets_older_df['Date'].str[:-6]"
   ]
  },
  {
   "cell_type": "code",
   "execution_count": 124,
   "metadata": {},
   "outputs": [],
   "source": [
    "merged_df = pd.merge(tweets_older_df, users_df[['id', 'nombre_usuario']], left_on='User', right_on='nombre_usuario', how='left')\n",
    "tweets_older_df['User'] = merged_df['nombre_usuario']"
   ]
  },
  {
   "cell_type": "code",
   "execution_count": 125,
   "metadata": {},
   "outputs": [],
   "source": [
    "tweets_older_df = merged_df.copy()"
   ]
  },
  {
   "cell_type": "code",
   "execution_count": 126,
   "metadata": {},
   "outputs": [],
   "source": [
    "tweets_older_df.drop(columns= 'nombre_usuario', inplace= True)"
   ]
  },
  {
   "cell_type": "code",
   "execution_count": 127,
   "metadata": {},
   "outputs": [
    {
     "data": {
      "text/html": [
       "<div>\n",
       "<style scoped>\n",
       "    .dataframe tbody tr th:only-of-type {\n",
       "        vertical-align: middle;\n",
       "    }\n",
       "\n",
       "    .dataframe tbody tr th {\n",
       "        vertical-align: top;\n",
       "    }\n",
       "\n",
       "    .dataframe thead th {\n",
       "        text-align: right;\n",
       "    }\n",
       "</style>\n",
       "<table border=\"1\" class=\"dataframe\">\n",
       "  <thead>\n",
       "    <tr style=\"text-align: right;\">\n",
       "      <th></th>\n",
       "      <th>Date</th>\n",
       "      <th>User</th>\n",
       "      <th>Tweet</th>\n",
       "      <th>Likes</th>\n",
       "      <th>Retweets</th>\n",
       "      <th>Replies</th>\n",
       "      <th>id</th>\n",
       "    </tr>\n",
       "  </thead>\n",
       "  <tbody>\n",
       "    <tr>\n",
       "      <th>0</th>\n",
       "      <td>2022-05-19 15:39:16</td>\n",
       "      <td>TheBridge_Tech</td>\n",
       "      <td>¡Qué poco queda para el próximo 🔥Burn Monday🔥!...</td>\n",
       "      <td>0</td>\n",
       "      <td>2</td>\n",
       "      <td>0</td>\n",
       "      <td>1.162694e+18</td>\n",
       "    </tr>\n",
       "    <tr>\n",
       "      <th>1</th>\n",
       "      <td>2022-05-18 15:23:22</td>\n",
       "      <td>TheBridge_Tech</td>\n",
       "      <td>Esta es la historia de Isis🤗 que decidió hacer...</td>\n",
       "      <td>0</td>\n",
       "      <td>0</td>\n",
       "      <td>0</td>\n",
       "      <td>1.162694e+18</td>\n",
       "    </tr>\n",
       "    <tr>\n",
       "      <th>2</th>\n",
       "      <td>2022-05-18 11:26:31</td>\n",
       "      <td>TheBridge_Tech</td>\n",
       "      <td>Gracias @victorianoI y equipo por el análisis ...</td>\n",
       "      <td>0</td>\n",
       "      <td>0</td>\n",
       "      <td>0</td>\n",
       "      <td>1.162694e+18</td>\n",
       "    </tr>\n",
       "    <tr>\n",
       "      <th>3</th>\n",
       "      <td>2022-05-18 08:31:13</td>\n",
       "      <td>Bcasapp</td>\n",
       "      <td>¿Cómo combatir el paro juvenil🥵? #tipdeldia En...</td>\n",
       "      <td>8</td>\n",
       "      <td>4</td>\n",
       "      <td>1</td>\n",
       "      <td>NaN</td>\n",
       "    </tr>\n",
       "    <tr>\n",
       "      <th>4</th>\n",
       "      <td>2022-05-17 14:53:47</td>\n",
       "      <td>TheBridge_Tech</td>\n",
       "      <td>¿Con ganas de probar si un empleo tecnológico ...</td>\n",
       "      <td>2</td>\n",
       "      <td>2</td>\n",
       "      <td>0</td>\n",
       "      <td>1.162694e+18</td>\n",
       "    </tr>\n",
       "  </tbody>\n",
       "</table>\n",
       "</div>"
      ],
      "text/plain": [
       "                  Date            User  \\\n",
       "0  2022-05-19 15:39:16  TheBridge_Tech   \n",
       "1  2022-05-18 15:23:22  TheBridge_Tech   \n",
       "2  2022-05-18 11:26:31  TheBridge_Tech   \n",
       "3  2022-05-18 08:31:13         Bcasapp   \n",
       "4  2022-05-17 14:53:47  TheBridge_Tech   \n",
       "\n",
       "                                               Tweet  Likes  Retweets  \\\n",
       "0  ¡Qué poco queda para el próximo 🔥Burn Monday🔥!...      0         2   \n",
       "1  Esta es la historia de Isis🤗 que decidió hacer...      0         0   \n",
       "2  Gracias @victorianoI y equipo por el análisis ...      0         0   \n",
       "3  ¿Cómo combatir el paro juvenil🥵? #tipdeldia En...      8         4   \n",
       "4  ¿Con ganas de probar si un empleo tecnológico ...      2         2   \n",
       "\n",
       "   Replies            id  \n",
       "0        0  1.162694e+18  \n",
       "1        0  1.162694e+18  \n",
       "2        0  1.162694e+18  \n",
       "3        1           NaN  \n",
       "4        0  1.162694e+18  "
      ]
     },
     "execution_count": 127,
     "metadata": {},
     "output_type": "execute_result"
    }
   ],
   "source": [
    "tweets_older_df.head()"
   ]
  },
  {
   "cell_type": "code",
   "execution_count": 128,
   "metadata": {},
   "outputs": [],
   "source": [
    "tweets_all_df = pd.concat([tweets_older_df, tweets_newer_df])"
   ]
  },
  {
   "cell_type": "code",
   "execution_count": 129,
   "metadata": {},
   "outputs": [
    {
     "data": {
      "text/html": [
       "<div>\n",
       "<style scoped>\n",
       "    .dataframe tbody tr th:only-of-type {\n",
       "        vertical-align: middle;\n",
       "    }\n",
       "\n",
       "    .dataframe tbody tr th {\n",
       "        vertical-align: top;\n",
       "    }\n",
       "\n",
       "    .dataframe thead th {\n",
       "        text-align: right;\n",
       "    }\n",
       "</style>\n",
       "<table border=\"1\" class=\"dataframe\">\n",
       "  <thead>\n",
       "    <tr style=\"text-align: right;\">\n",
       "      <th></th>\n",
       "      <th>Date</th>\n",
       "      <th>User</th>\n",
       "      <th>Tweet</th>\n",
       "      <th>Likes</th>\n",
       "      <th>Retweets</th>\n",
       "      <th>Replies</th>\n",
       "      <th>id</th>\n",
       "    </tr>\n",
       "  </thead>\n",
       "  <tbody>\n",
       "    <tr>\n",
       "      <th>0</th>\n",
       "      <td>2022-05-19 15:39:16</td>\n",
       "      <td>TheBridge_Tech</td>\n",
       "      <td>¡Qué poco queda para el próximo 🔥Burn Monday🔥!...</td>\n",
       "      <td>0</td>\n",
       "      <td>2</td>\n",
       "      <td>0</td>\n",
       "      <td>1.162694e+18</td>\n",
       "    </tr>\n",
       "    <tr>\n",
       "      <th>1</th>\n",
       "      <td>2022-05-18 15:23:22</td>\n",
       "      <td>TheBridge_Tech</td>\n",
       "      <td>Esta es la historia de Isis🤗 que decidió hacer...</td>\n",
       "      <td>0</td>\n",
       "      <td>0</td>\n",
       "      <td>0</td>\n",
       "      <td>1.162694e+18</td>\n",
       "    </tr>\n",
       "    <tr>\n",
       "      <th>2</th>\n",
       "      <td>2022-05-18 11:26:31</td>\n",
       "      <td>TheBridge_Tech</td>\n",
       "      <td>Gracias @victorianoI y equipo por el análisis ...</td>\n",
       "      <td>0</td>\n",
       "      <td>0</td>\n",
       "      <td>0</td>\n",
       "      <td>1.162694e+18</td>\n",
       "    </tr>\n",
       "    <tr>\n",
       "      <th>3</th>\n",
       "      <td>2022-05-18 08:31:13</td>\n",
       "      <td>Bcasapp</td>\n",
       "      <td>¿Cómo combatir el paro juvenil🥵? #tipdeldia En...</td>\n",
       "      <td>8</td>\n",
       "      <td>4</td>\n",
       "      <td>1</td>\n",
       "      <td>NaN</td>\n",
       "    </tr>\n",
       "    <tr>\n",
       "      <th>4</th>\n",
       "      <td>2022-05-17 14:53:47</td>\n",
       "      <td>TheBridge_Tech</td>\n",
       "      <td>¿Con ganas de probar si un empleo tecnológico ...</td>\n",
       "      <td>2</td>\n",
       "      <td>2</td>\n",
       "      <td>0</td>\n",
       "      <td>1.162694e+18</td>\n",
       "    </tr>\n",
       "    <tr>\n",
       "      <th>...</th>\n",
       "      <td>...</td>\n",
       "      <td>...</td>\n",
       "      <td>...</td>\n",
       "      <td>...</td>\n",
       "      <td>...</td>\n",
       "      <td>...</td>\n",
       "      <td>...</td>\n",
       "    </tr>\n",
       "    <tr>\n",
       "      <th>272</th>\n",
       "      <td>2023-05-16 11:15:34</td>\n",
       "      <td>TheBridge_Tech</td>\n",
       "      <td>Así es el #bootcamp de #UXUIProductDesign que ...</td>\n",
       "      <td>3</td>\n",
       "      <td>1</td>\n",
       "      <td>0</td>\n",
       "      <td>1.162694e+18</td>\n",
       "    </tr>\n",
       "    <tr>\n",
       "      <th>273</th>\n",
       "      <td>2023-05-17 11:06:23</td>\n",
       "      <td>TheBridge_Tech</td>\n",
       "      <td>Nos colamos en el campus de #Bilbao para descu...</td>\n",
       "      <td>2</td>\n",
       "      <td>1</td>\n",
       "      <td>0</td>\n",
       "      <td>1.162694e+18</td>\n",
       "    </tr>\n",
       "    <tr>\n",
       "      <th>274</th>\n",
       "      <td>2023-05-17 13:21:52</td>\n",
       "      <td>nodosenlared</td>\n",
       "      <td>#MLMonitoring and #Observability, mar, 23 may ...</td>\n",
       "      <td>3</td>\n",
       "      <td>1</td>\n",
       "      <td>0</td>\n",
       "      <td>4.154566e+07</td>\n",
       "    </tr>\n",
       "    <tr>\n",
       "      <th>275</th>\n",
       "      <td>2023-05-18 10:00:23</td>\n",
       "      <td>TheBridge_Tech</td>\n",
       "      <td>¿Qué hacían nuestros alumni antes del #bootcam...</td>\n",
       "      <td>0</td>\n",
       "      <td>0</td>\n",
       "      <td>0</td>\n",
       "      <td>1.162694e+18</td>\n",
       "    </tr>\n",
       "    <tr>\n",
       "      <th>276</th>\n",
       "      <td>2023-05-19 11:01:18</td>\n",
       "      <td>a3sec</td>\n",
       "      <td>Ayer visitamos a los alumnos de @TheBridge_Tec...</td>\n",
       "      <td>3</td>\n",
       "      <td>1</td>\n",
       "      <td>0</td>\n",
       "      <td>9.870473e+08</td>\n",
       "    </tr>\n",
       "  </tbody>\n",
       "</table>\n",
       "<p>277 rows × 7 columns</p>\n",
       "</div>"
      ],
      "text/plain": [
       "                    Date            User  \\\n",
       "0    2022-05-19 15:39:16  TheBridge_Tech   \n",
       "1    2022-05-18 15:23:22  TheBridge_Tech   \n",
       "2    2022-05-18 11:26:31  TheBridge_Tech   \n",
       "3    2022-05-18 08:31:13         Bcasapp   \n",
       "4    2022-05-17 14:53:47  TheBridge_Tech   \n",
       "..                   ...             ...   \n",
       "272  2023-05-16 11:15:34  TheBridge_Tech   \n",
       "273  2023-05-17 11:06:23  TheBridge_Tech   \n",
       "274  2023-05-17 13:21:52    nodosenlared   \n",
       "275  2023-05-18 10:00:23  TheBridge_Tech   \n",
       "276  2023-05-19 11:01:18           a3sec   \n",
       "\n",
       "                                                 Tweet  Likes  Retweets  \\\n",
       "0    ¡Qué poco queda para el próximo 🔥Burn Monday🔥!...      0         2   \n",
       "1    Esta es la historia de Isis🤗 que decidió hacer...      0         0   \n",
       "2    Gracias @victorianoI y equipo por el análisis ...      0         0   \n",
       "3    ¿Cómo combatir el paro juvenil🥵? #tipdeldia En...      8         4   \n",
       "4    ¿Con ganas de probar si un empleo tecnológico ...      2         2   \n",
       "..                                                 ...    ...       ...   \n",
       "272  Así es el #bootcamp de #UXUIProductDesign que ...      3         1   \n",
       "273  Nos colamos en el campus de #Bilbao para descu...      2         1   \n",
       "274  #MLMonitoring and #Observability, mar, 23 may ...      3         1   \n",
       "275  ¿Qué hacían nuestros alumni antes del #bootcam...      0         0   \n",
       "276  Ayer visitamos a los alumnos de @TheBridge_Tec...      3         1   \n",
       "\n",
       "     Replies            id  \n",
       "0          0  1.162694e+18  \n",
       "1          0  1.162694e+18  \n",
       "2          0  1.162694e+18  \n",
       "3          1           NaN  \n",
       "4          0  1.162694e+18  \n",
       "..       ...           ...  \n",
       "272        0  1.162694e+18  \n",
       "273        0  1.162694e+18  \n",
       "274        0  4.154566e+07  \n",
       "275        0  1.162694e+18  \n",
       "276        0  9.870473e+08  \n",
       "\n",
       "[277 rows x 7 columns]"
      ]
     },
     "execution_count": 129,
     "metadata": {},
     "output_type": "execute_result"
    }
   ],
   "source": [
    "tweets_all_df.reset_index(drop= True)"
   ]
  },
  {
   "cell_type": "code",
   "execution_count": 130,
   "metadata": {},
   "outputs": [],
   "source": [
    "tweets_all_df.drop(columns= 'id', inplace= True)"
   ]
  },
  {
   "cell_type": "code",
   "execution_count": 131,
   "metadata": {},
   "outputs": [
    {
     "data": {
      "text/html": [
       "<div>\n",
       "<style scoped>\n",
       "    .dataframe tbody tr th:only-of-type {\n",
       "        vertical-align: middle;\n",
       "    }\n",
       "\n",
       "    .dataframe tbody tr th {\n",
       "        vertical-align: top;\n",
       "    }\n",
       "\n",
       "    .dataframe thead th {\n",
       "        text-align: right;\n",
       "    }\n",
       "</style>\n",
       "<table border=\"1\" class=\"dataframe\">\n",
       "  <thead>\n",
       "    <tr style=\"text-align: right;\">\n",
       "      <th></th>\n",
       "      <th>Date</th>\n",
       "      <th>User</th>\n",
       "      <th>Tweet</th>\n",
       "      <th>Likes</th>\n",
       "      <th>Retweets</th>\n",
       "      <th>Replies</th>\n",
       "    </tr>\n",
       "  </thead>\n",
       "  <tbody>\n",
       "    <tr>\n",
       "      <th>0</th>\n",
       "      <td>2022-05-19 15:39:16</td>\n",
       "      <td>TheBridge_Tech</td>\n",
       "      <td>¡Qué poco queda para el próximo 🔥Burn Monday🔥!...</td>\n",
       "      <td>0</td>\n",
       "      <td>2</td>\n",
       "      <td>0</td>\n",
       "    </tr>\n",
       "    <tr>\n",
       "      <th>1</th>\n",
       "      <td>2022-05-18 15:23:22</td>\n",
       "      <td>TheBridge_Tech</td>\n",
       "      <td>Esta es la historia de Isis🤗 que decidió hacer...</td>\n",
       "      <td>0</td>\n",
       "      <td>0</td>\n",
       "      <td>0</td>\n",
       "    </tr>\n",
       "    <tr>\n",
       "      <th>2</th>\n",
       "      <td>2022-05-18 11:26:31</td>\n",
       "      <td>TheBridge_Tech</td>\n",
       "      <td>Gracias @victorianoI y equipo por el análisis ...</td>\n",
       "      <td>0</td>\n",
       "      <td>0</td>\n",
       "      <td>0</td>\n",
       "    </tr>\n",
       "    <tr>\n",
       "      <th>3</th>\n",
       "      <td>2022-05-18 08:31:13</td>\n",
       "      <td>Bcasapp</td>\n",
       "      <td>¿Cómo combatir el paro juvenil🥵? #tipdeldia En...</td>\n",
       "      <td>8</td>\n",
       "      <td>4</td>\n",
       "      <td>1</td>\n",
       "    </tr>\n",
       "    <tr>\n",
       "      <th>4</th>\n",
       "      <td>2022-05-17 14:53:47</td>\n",
       "      <td>TheBridge_Tech</td>\n",
       "      <td>¿Con ganas de probar si un empleo tecnológico ...</td>\n",
       "      <td>2</td>\n",
       "      <td>2</td>\n",
       "      <td>0</td>\n",
       "    </tr>\n",
       "  </tbody>\n",
       "</table>\n",
       "</div>"
      ],
      "text/plain": [
       "                  Date            User  \\\n",
       "0  2022-05-19 15:39:16  TheBridge_Tech   \n",
       "1  2022-05-18 15:23:22  TheBridge_Tech   \n",
       "2  2022-05-18 11:26:31  TheBridge_Tech   \n",
       "3  2022-05-18 08:31:13         Bcasapp   \n",
       "4  2022-05-17 14:53:47  TheBridge_Tech   \n",
       "\n",
       "                                               Tweet  Likes  Retweets  Replies  \n",
       "0  ¡Qué poco queda para el próximo 🔥Burn Monday🔥!...      0         2        0  \n",
       "1  Esta es la historia de Isis🤗 que decidió hacer...      0         0        0  \n",
       "2  Gracias @victorianoI y equipo por el análisis ...      0         0        0  \n",
       "3  ¿Cómo combatir el paro juvenil🥵? #tipdeldia En...      8         4        1  \n",
       "4  ¿Con ganas de probar si un empleo tecnológico ...      2         2        0  "
      ]
     },
     "execution_count": 131,
     "metadata": {},
     "output_type": "execute_result"
    }
   ],
   "source": [
    "tweets_all_df.head()"
   ]
  },
  {
   "cell_type": "code",
   "execution_count": 132,
   "metadata": {},
   "outputs": [
    {
     "name": "stdout",
     "output_type": "stream",
     "text": [
      "<class 'pandas.core.frame.DataFrame'>\n",
      "Int64Index: 277 entries, 0 to 142\n",
      "Data columns (total 6 columns):\n",
      " #   Column    Non-Null Count  Dtype \n",
      "---  ------    --------------  ----- \n",
      " 0   Date      277 non-null    object\n",
      " 1   User      277 non-null    object\n",
      " 2   Tweet     277 non-null    object\n",
      " 3   Likes     277 non-null    int64 \n",
      " 4   Retweets  277 non-null    int64 \n",
      " 5   Replies   277 non-null    int64 \n",
      "dtypes: int64(3), object(3)\n",
      "memory usage: 15.1+ KB\n"
     ]
    }
   ],
   "source": [
    "tweets_all_df.info()"
   ]
  },
  {
   "cell_type": "code",
   "execution_count": 133,
   "metadata": {},
   "outputs": [
    {
     "data": {
      "text/plain": [
       "133    2022-01-05 08:00:01\n",
       "132    2022-01-08 12:10:46\n",
       "131    2022-01-09 17:23:02\n",
       "130    2022-01-12 19:03:03\n",
       "129    2022-01-18 16:02:13\n",
       "              ...         \n",
       "138    2023-05-16 11:15:34\n",
       "139    2023-05-17 11:06:23\n",
       "140    2023-05-17 13:21:52\n",
       "141    2023-05-18 10:00:23\n",
       "142    2023-05-19 11:01:18\n",
       "Name: Date, Length: 277, dtype: object"
      ]
     },
     "execution_count": 133,
     "metadata": {},
     "output_type": "execute_result"
    }
   ],
   "source": [
    "tweets_all_df['Date'].sort_values()"
   ]
  },
  {
   "cell_type": "code",
   "execution_count": 136,
   "metadata": {},
   "outputs": [],
   "source": [
    "tweets_all_df.to_csv('../data/tweets_all.csv')"
   ]
  },
  {
   "cell_type": "code",
   "execution_count": 137,
   "metadata": {},
   "outputs": [],
   "source": [
    "import sqlite3"
   ]
  },
  {
   "cell_type": "code",
   "execution_count": 138,
   "metadata": {},
   "outputs": [],
   "source": [
    "conn = sqlite3.Connection('../database/prueba_tecnica.db')"
   ]
  },
  {
   "cell_type": "code",
   "execution_count": 139,
   "metadata": {},
   "outputs": [
    {
     "data": {
      "text/plain": [
       "38"
      ]
     },
     "execution_count": 139,
     "metadata": {},
     "output_type": "execute_result"
    }
   ],
   "source": [
    "users_df.to_sql(name='Users', con= conn)"
   ]
  },
  {
   "cell_type": "code",
   "execution_count": 140,
   "metadata": {},
   "outputs": [
    {
     "data": {
      "text/plain": [
       "277"
      ]
     },
     "execution_count": 140,
     "metadata": {},
     "output_type": "execute_result"
    }
   ],
   "source": [
    "tweets_all_df.to_sql(name='Tweets', con= conn)"
   ]
  },
  {
   "cell_type": "code",
   "execution_count": 222,
   "metadata": {},
   "outputs": [
    {
     "name": "stdout",
     "output_type": "stream",
     "text": [
      "                                                Tweet  Retweets\n",
      "91  par reactiv ten meetup este mart de abril a la...        25\n"
     ]
    }
   ],
   "source": [
    "# ¿Cuál es el tweet con mayor repercusión social?\n",
    "# Interpreto que es el que tenga mayor número de Retweets\n",
    "\n",
    "print(tweets_all_df[['Tweet', 'Retweets']][tweets_all_df['Retweets'] == tweets_all_df['Retweets'].max()])\n"
   ]
  },
  {
   "cell_type": "code",
   "execution_count": 159,
   "metadata": {},
   "outputs": [
    {
     "data": {
      "text/html": [
       "<div>\n",
       "<style scoped>\n",
       "    .dataframe tbody tr th:only-of-type {\n",
       "        vertical-align: middle;\n",
       "    }\n",
       "\n",
       "    .dataframe tbody tr th {\n",
       "        vertical-align: top;\n",
       "    }\n",
       "\n",
       "    .dataframe thead th {\n",
       "        text-align: right;\n",
       "    }\n",
       "</style>\n",
       "<table border=\"1\" class=\"dataframe\">\n",
       "  <thead>\n",
       "    <tr style=\"text-align: right;\">\n",
       "      <th></th>\n",
       "      <th>Tweet</th>\n",
       "      <th>Retweets</th>\n",
       "    </tr>\n",
       "  </thead>\n",
       "  <tbody>\n",
       "    <tr>\n",
       "      <th>91</th>\n",
       "      <td>Para reactivarse!!!\\nTenemos Meetup este marte...</td>\n",
       "      <td>25</td>\n",
       "    </tr>\n",
       "  </tbody>\n",
       "</table>\n",
       "</div>"
      ],
      "text/plain": [
       "                                                Tweet  Retweets\n",
       "91  Para reactivarse!!!\\nTenemos Meetup este marte...        25"
      ]
     },
     "execution_count": 159,
     "metadata": {},
     "output_type": "execute_result"
    }
   ],
   "source": [
    "tweets_all_df[['Tweet', 'Retweets']].sort_values(by= 'Retweets', ascending= False)[:1]"
   ]
  },
  {
   "cell_type": "code",
   "execution_count": 160,
   "metadata": {},
   "outputs": [
    {
     "data": {
      "text/plain": [
       "TheBridge_Tech    98\n",
       "DatabeerSVQ       17\n",
       "Name: User, dtype: int64"
      ]
     },
     "execution_count": 160,
     "metadata": {},
     "output_type": "execute_result"
    }
   ],
   "source": [
    "# ¿Cuál es el usuario que más menciona a la escuela?\n",
    "\n",
    "tweets_all_df['User'].value_counts()[:2]"
   ]
  },
  {
   "cell_type": "code",
   "execution_count": 161,
   "metadata": {},
   "outputs": [
    {
     "data": {
      "text/plain": [
       "User\n",
       "TheBridge_Tech    98\n",
       "DatabeerSVQ       17\n",
       "Name: User, dtype: int64"
      ]
     },
     "execution_count": 161,
     "metadata": {},
     "output_type": "execute_result"
    }
   ],
   "source": [
    "tweets_all_df['User'].groupby(by= tweets_all_df['User']).count().sort_values(ascending= False)[:2]"
   ]
  },
  {
   "cell_type": "code",
   "execution_count": 162,
   "metadata": {},
   "outputs": [],
   "source": [
    "# ¿En qué mes se concentra el mayor número de tweets?\n",
    "\n",
    "tweets_all_df['Date'] = pd.to_datetime(tweets_all_df['Date'])"
   ]
  },
  {
   "cell_type": "code",
   "execution_count": 170,
   "metadata": {},
   "outputs": [
    {
     "data": {
      "text/plain": [
       "Date\n",
       "3    100\n",
       "4     87\n",
       "5     37\n",
       "2     36\n",
       "1     17\n",
       "Name: Date, dtype: int64"
      ]
     },
     "execution_count": 170,
     "metadata": {},
     "output_type": "execute_result"
    }
   ],
   "source": [
    "tweets_all_df['Date'].groupby(by= tweets_all_df['Date'].dt.month).count().sort_values(ascending= False)"
   ]
  },
  {
   "cell_type": "code",
   "execution_count": 171,
   "metadata": {},
   "outputs": [],
   "source": [
    "# Es el mes 3 (marzo), hay 100 tweets"
   ]
  },
  {
   "cell_type": "code",
   "execution_count": 172,
   "metadata": {},
   "outputs": [],
   "source": [
    "# ¿Qué palabras son más frecuentes?"
   ]
  },
  {
   "cell_type": "code",
   "execution_count": 178,
   "metadata": {},
   "outputs": [],
   "source": [
    "from collections import defaultdict\n",
    "from wordcloud import STOPWORDS\n",
    "from plotly import tools\n",
    "import plotly.graph_objects as go\n",
    "import plotly.offline as py\n",
    "import nltk"
   ]
  },
  {
   "cell_type": "code",
   "execution_count": 181,
   "metadata": {},
   "outputs": [
    {
     "name": "stderr",
     "output_type": "stream",
     "text": [
      "[nltk_data] Downloading package stopwords to /home/david/nltk_data...\n",
      "[nltk_data]   Unzipping corpora/stopwords.zip.\n"
     ]
    },
    {
     "data": {
      "text/plain": [
       "True"
      ]
     },
     "execution_count": 181,
     "metadata": {},
     "output_type": "execute_result"
    }
   ],
   "source": [
    "nltk.download('stopwords')"
   ]
  },
  {
   "cell_type": "code",
   "execution_count": 182,
   "metadata": {},
   "outputs": [],
   "source": [
    "stopwords = nltk.corpus.stopwords.words('spanish')"
   ]
  },
  {
   "cell_type": "code",
   "execution_count": 183,
   "metadata": {},
   "outputs": [],
   "source": [
    "## custom function for ngram generation ##\n",
    "def generate_ngrams(text, n_gram=1):\n",
    "    token = [token for token in text.lower().split(\" \") if token != \"\" if token not in stopwords]\n",
    "    ngrams = zip(*[token[i:] for i in range(n_gram)])\n",
    "    return [\" \".join(ngram) for ngram in ngrams]"
   ]
  },
  {
   "cell_type": "code",
   "execution_count": 184,
   "metadata": {},
   "outputs": [],
   "source": [
    "## custom function for horizontal bar chart ##\n",
    "def horizontal_bar_chart(df, color):\n",
    "    trace = go.Bar(\n",
    "        y=df[\"word\"].values[::-1],\n",
    "        x=df[\"wordcount\"].values[::-1],\n",
    "        showlegend=False,\n",
    "        orientation = 'h',\n",
    "        marker=dict(\n",
    "            color=color,\n",
    "        ),\n",
    "    )\n",
    "    return trace"
   ]
  },
  {
   "cell_type": "code",
   "execution_count": 185,
   "metadata": {},
   "outputs": [
    {
     "name": "stderr",
     "output_type": "stream",
     "text": [
      "/usr/lib/python3/dist-packages/plotly/tools.py:461: DeprecationWarning:\n",
      "\n",
      "plotly.tools.make_subplots is deprecated, please use plotly.subplots.make_subplots instead\n",
      "\n"
     ]
    },
    {
     "data": {
      "application/vnd.plotly.v1+json": {
       "config": {
        "linkText": "Export to plot.ly",
        "plotlyServerURL": "https://plot.ly",
        "showLink": false
       },
       "data": [
        {
         "marker": {
          "color": "blue"
         },
         "orientation": "h",
         "showlegend": false,
         "type": "bar",
         "x": [
          8,
          8,
          8,
          8,
          8,
          8,
          8,
          9,
          9,
          9,
          9,
          9,
          9,
          9,
          10,
          10,
          10,
          10,
          10,
          10,
          10,
          10,
          10,
          10,
          10,
          10,
          10,
          10,
          10,
          11,
          11,
          12,
          12,
          12,
          12,
          12,
          12,
          12,
          13,
          13,
          14,
          14,
          15,
          16,
          16,
          18,
          18,
          20,
          22,
          156
         ],
         "xaxis": "x",
         "y": [
          "@globant",
          "experiencia",
          "#desarrollowebfullstack",
          "profesionales",
          "encuentro",
          "cómo",
          "pierdas!",
          "#bootcamps",
          "jueves",
          "formación",
          "bootcamps",
          "becas",
          "meetup",
          "@tonidorta",
          "@thebridge_tech.",
          "datos",
          "sector",
          "entradas",
          "at",
          "¡no",
          "nueva",
          "vemos",
          "hoy",
          "alumnos",
          "puedes",
          "taller",
          "👉",
          "@singularsolving",
          "@svq_tech",
          "futuro",
          "colaboración",
          "próximo",
          "mayo",
          "junto",
          "carrera",
          "desarrollo",
          "@paumugarra",
          "@opensistemas",
          "talento",
          "personas",
          "edición",
          "web",
          "the",
          "#datascience",
          "si",
          "gracias",
          "digital",
          "@sngular",
          "#bootcamp",
          "@thebridge_tech"
         ],
         "yaxis": "y"
        }
       ],
       "layout": {
        "annotations": [
         {
          "font": {
           "size": 16
          },
          "showarrow": false,
          "text": "Frequent words",
          "x": 0.5,
          "xanchor": "center",
          "xref": "paper",
          "y": 1,
          "yanchor": "bottom",
          "yref": "paper"
         }
        ],
        "height": 1200,
        "paper_bgcolor": "rgb(233,233,233)",
        "template": {
         "data": {
          "bar": [
           {
            "error_x": {
             "color": "#2a3f5f"
            },
            "error_y": {
             "color": "#2a3f5f"
            },
            "marker": {
             "line": {
              "color": "#E5ECF6",
              "width": 0.5
             },
             "pattern": {
              "fillmode": "overlay",
              "size": 10,
              "solidity": 0.2
             }
            },
            "type": "bar"
           }
          ],
          "barpolar": [
           {
            "marker": {
             "line": {
              "color": "#E5ECF6",
              "width": 0.5
             },
             "pattern": {
              "fillmode": "overlay",
              "size": 10,
              "solidity": 0.2
             }
            },
            "type": "barpolar"
           }
          ],
          "carpet": [
           {
            "aaxis": {
             "endlinecolor": "#2a3f5f",
             "gridcolor": "white",
             "linecolor": "white",
             "minorgridcolor": "white",
             "startlinecolor": "#2a3f5f"
            },
            "baxis": {
             "endlinecolor": "#2a3f5f",
             "gridcolor": "white",
             "linecolor": "white",
             "minorgridcolor": "white",
             "startlinecolor": "#2a3f5f"
            },
            "type": "carpet"
           }
          ],
          "choropleth": [
           {
            "colorbar": {
             "outlinewidth": 0,
             "ticks": ""
            },
            "type": "choropleth"
           }
          ],
          "contour": [
           {
            "colorbar": {
             "outlinewidth": 0,
             "ticks": ""
            },
            "colorscale": [
             [
              0,
              "#0d0887"
             ],
             [
              0.1111111111111111,
              "#46039f"
             ],
             [
              0.2222222222222222,
              "#7201a8"
             ],
             [
              0.3333333333333333,
              "#9c179e"
             ],
             [
              0.4444444444444444,
              "#bd3786"
             ],
             [
              0.5555555555555556,
              "#d8576b"
             ],
             [
              0.6666666666666666,
              "#ed7953"
             ],
             [
              0.7777777777777778,
              "#fb9f3a"
             ],
             [
              0.8888888888888888,
              "#fdca26"
             ],
             [
              1,
              "#f0f921"
             ]
            ],
            "type": "contour"
           }
          ],
          "contourcarpet": [
           {
            "colorbar": {
             "outlinewidth": 0,
             "ticks": ""
            },
            "type": "contourcarpet"
           }
          ],
          "heatmap": [
           {
            "colorbar": {
             "outlinewidth": 0,
             "ticks": ""
            },
            "colorscale": [
             [
              0,
              "#0d0887"
             ],
             [
              0.1111111111111111,
              "#46039f"
             ],
             [
              0.2222222222222222,
              "#7201a8"
             ],
             [
              0.3333333333333333,
              "#9c179e"
             ],
             [
              0.4444444444444444,
              "#bd3786"
             ],
             [
              0.5555555555555556,
              "#d8576b"
             ],
             [
              0.6666666666666666,
              "#ed7953"
             ],
             [
              0.7777777777777778,
              "#fb9f3a"
             ],
             [
              0.8888888888888888,
              "#fdca26"
             ],
             [
              1,
              "#f0f921"
             ]
            ],
            "type": "heatmap"
           }
          ],
          "heatmapgl": [
           {
            "colorbar": {
             "outlinewidth": 0,
             "ticks": ""
            },
            "colorscale": [
             [
              0,
              "#0d0887"
             ],
             [
              0.1111111111111111,
              "#46039f"
             ],
             [
              0.2222222222222222,
              "#7201a8"
             ],
             [
              0.3333333333333333,
              "#9c179e"
             ],
             [
              0.4444444444444444,
              "#bd3786"
             ],
             [
              0.5555555555555556,
              "#d8576b"
             ],
             [
              0.6666666666666666,
              "#ed7953"
             ],
             [
              0.7777777777777778,
              "#fb9f3a"
             ],
             [
              0.8888888888888888,
              "#fdca26"
             ],
             [
              1,
              "#f0f921"
             ]
            ],
            "type": "heatmapgl"
           }
          ],
          "histogram": [
           {
            "marker": {
             "pattern": {
              "fillmode": "overlay",
              "size": 10,
              "solidity": 0.2
             }
            },
            "type": "histogram"
           }
          ],
          "histogram2d": [
           {
            "colorbar": {
             "outlinewidth": 0,
             "ticks": ""
            },
            "colorscale": [
             [
              0,
              "#0d0887"
             ],
             [
              0.1111111111111111,
              "#46039f"
             ],
             [
              0.2222222222222222,
              "#7201a8"
             ],
             [
              0.3333333333333333,
              "#9c179e"
             ],
             [
              0.4444444444444444,
              "#bd3786"
             ],
             [
              0.5555555555555556,
              "#d8576b"
             ],
             [
              0.6666666666666666,
              "#ed7953"
             ],
             [
              0.7777777777777778,
              "#fb9f3a"
             ],
             [
              0.8888888888888888,
              "#fdca26"
             ],
             [
              1,
              "#f0f921"
             ]
            ],
            "type": "histogram2d"
           }
          ],
          "histogram2dcontour": [
           {
            "colorbar": {
             "outlinewidth": 0,
             "ticks": ""
            },
            "colorscale": [
             [
              0,
              "#0d0887"
             ],
             [
              0.1111111111111111,
              "#46039f"
             ],
             [
              0.2222222222222222,
              "#7201a8"
             ],
             [
              0.3333333333333333,
              "#9c179e"
             ],
             [
              0.4444444444444444,
              "#bd3786"
             ],
             [
              0.5555555555555556,
              "#d8576b"
             ],
             [
              0.6666666666666666,
              "#ed7953"
             ],
             [
              0.7777777777777778,
              "#fb9f3a"
             ],
             [
              0.8888888888888888,
              "#fdca26"
             ],
             [
              1,
              "#f0f921"
             ]
            ],
            "type": "histogram2dcontour"
           }
          ],
          "mesh3d": [
           {
            "colorbar": {
             "outlinewidth": 0,
             "ticks": ""
            },
            "type": "mesh3d"
           }
          ],
          "parcoords": [
           {
            "line": {
             "colorbar": {
              "outlinewidth": 0,
              "ticks": ""
             }
            },
            "type": "parcoords"
           }
          ],
          "pie": [
           {
            "automargin": true,
            "type": "pie"
           }
          ],
          "scatter": [
           {
            "marker": {
             "colorbar": {
              "outlinewidth": 0,
              "ticks": ""
             }
            },
            "type": "scatter"
           }
          ],
          "scatter3d": [
           {
            "line": {
             "colorbar": {
              "outlinewidth": 0,
              "ticks": ""
             }
            },
            "marker": {
             "colorbar": {
              "outlinewidth": 0,
              "ticks": ""
             }
            },
            "type": "scatter3d"
           }
          ],
          "scattercarpet": [
           {
            "marker": {
             "colorbar": {
              "outlinewidth": 0,
              "ticks": ""
             }
            },
            "type": "scattercarpet"
           }
          ],
          "scattergeo": [
           {
            "marker": {
             "colorbar": {
              "outlinewidth": 0,
              "ticks": ""
             }
            },
            "type": "scattergeo"
           }
          ],
          "scattergl": [
           {
            "marker": {
             "colorbar": {
              "outlinewidth": 0,
              "ticks": ""
             }
            },
            "type": "scattergl"
           }
          ],
          "scattermapbox": [
           {
            "marker": {
             "colorbar": {
              "outlinewidth": 0,
              "ticks": ""
             }
            },
            "type": "scattermapbox"
           }
          ],
          "scatterpolar": [
           {
            "marker": {
             "colorbar": {
              "outlinewidth": 0,
              "ticks": ""
             }
            },
            "type": "scatterpolar"
           }
          ],
          "scatterpolargl": [
           {
            "marker": {
             "colorbar": {
              "outlinewidth": 0,
              "ticks": ""
             }
            },
            "type": "scatterpolargl"
           }
          ],
          "scatterternary": [
           {
            "marker": {
             "colorbar": {
              "outlinewidth": 0,
              "ticks": ""
             }
            },
            "type": "scatterternary"
           }
          ],
          "surface": [
           {
            "colorbar": {
             "outlinewidth": 0,
             "ticks": ""
            },
            "colorscale": [
             [
              0,
              "#0d0887"
             ],
             [
              0.1111111111111111,
              "#46039f"
             ],
             [
              0.2222222222222222,
              "#7201a8"
             ],
             [
              0.3333333333333333,
              "#9c179e"
             ],
             [
              0.4444444444444444,
              "#bd3786"
             ],
             [
              0.5555555555555556,
              "#d8576b"
             ],
             [
              0.6666666666666666,
              "#ed7953"
             ],
             [
              0.7777777777777778,
              "#fb9f3a"
             ],
             [
              0.8888888888888888,
              "#fdca26"
             ],
             [
              1,
              "#f0f921"
             ]
            ],
            "type": "surface"
           }
          ],
          "table": [
           {
            "cells": {
             "fill": {
              "color": "#EBF0F8"
             },
             "line": {
              "color": "white"
             }
            },
            "header": {
             "fill": {
              "color": "#C8D4E3"
             },
             "line": {
              "color": "white"
             }
            },
            "type": "table"
           }
          ]
         },
         "layout": {
          "annotationdefaults": {
           "arrowcolor": "#2a3f5f",
           "arrowhead": 0,
           "arrowwidth": 1
          },
          "autotypenumbers": "strict",
          "coloraxis": {
           "colorbar": {
            "outlinewidth": 0,
            "ticks": ""
           }
          },
          "colorscale": {
           "diverging": [
            [
             0,
             "#8e0152"
            ],
            [
             0.1,
             "#c51b7d"
            ],
            [
             0.2,
             "#de77ae"
            ],
            [
             0.3,
             "#f1b6da"
            ],
            [
             0.4,
             "#fde0ef"
            ],
            [
             0.5,
             "#f7f7f7"
            ],
            [
             0.6,
             "#e6f5d0"
            ],
            [
             0.7,
             "#b8e186"
            ],
            [
             0.8,
             "#7fbc41"
            ],
            [
             0.9,
             "#4d9221"
            ],
            [
             1,
             "#276419"
            ]
           ],
           "sequential": [
            [
             0,
             "#0d0887"
            ],
            [
             0.1111111111111111,
             "#46039f"
            ],
            [
             0.2222222222222222,
             "#7201a8"
            ],
            [
             0.3333333333333333,
             "#9c179e"
            ],
            [
             0.4444444444444444,
             "#bd3786"
            ],
            [
             0.5555555555555556,
             "#d8576b"
            ],
            [
             0.6666666666666666,
             "#ed7953"
            ],
            [
             0.7777777777777778,
             "#fb9f3a"
            ],
            [
             0.8888888888888888,
             "#fdca26"
            ],
            [
             1,
             "#f0f921"
            ]
           ],
           "sequentialminus": [
            [
             0,
             "#0d0887"
            ],
            [
             0.1111111111111111,
             "#46039f"
            ],
            [
             0.2222222222222222,
             "#7201a8"
            ],
            [
             0.3333333333333333,
             "#9c179e"
            ],
            [
             0.4444444444444444,
             "#bd3786"
            ],
            [
             0.5555555555555556,
             "#d8576b"
            ],
            [
             0.6666666666666666,
             "#ed7953"
            ],
            [
             0.7777777777777778,
             "#fb9f3a"
            ],
            [
             0.8888888888888888,
             "#fdca26"
            ],
            [
             1,
             "#f0f921"
            ]
           ]
          },
          "colorway": [
           "#636efa",
           "#EF553B",
           "#00cc96",
           "#ab63fa",
           "#FFA15A",
           "#19d3f3",
           "#FF6692",
           "#B6E880",
           "#FF97FF",
           "#FECB52"
          ],
          "font": {
           "color": "#2a3f5f"
          },
          "geo": {
           "bgcolor": "white",
           "lakecolor": "white",
           "landcolor": "#E5ECF6",
           "showlakes": true,
           "showland": true,
           "subunitcolor": "white"
          },
          "hoverlabel": {
           "align": "left"
          },
          "hovermode": "closest",
          "mapbox": {
           "style": "light"
          },
          "paper_bgcolor": "white",
          "plot_bgcolor": "#E5ECF6",
          "polar": {
           "angularaxis": {
            "gridcolor": "white",
            "linecolor": "white",
            "ticks": ""
           },
           "bgcolor": "#E5ECF6",
           "radialaxis": {
            "gridcolor": "white",
            "linecolor": "white",
            "ticks": ""
           }
          },
          "scene": {
           "xaxis": {
            "backgroundcolor": "#E5ECF6",
            "gridcolor": "white",
            "gridwidth": 2,
            "linecolor": "white",
            "showbackground": true,
            "ticks": "",
            "zerolinecolor": "white"
           },
           "yaxis": {
            "backgroundcolor": "#E5ECF6",
            "gridcolor": "white",
            "gridwidth": 2,
            "linecolor": "white",
            "showbackground": true,
            "ticks": "",
            "zerolinecolor": "white"
           },
           "zaxis": {
            "backgroundcolor": "#E5ECF6",
            "gridcolor": "white",
            "gridwidth": 2,
            "linecolor": "white",
            "showbackground": true,
            "ticks": "",
            "zerolinecolor": "white"
           }
          },
          "shapedefaults": {
           "line": {
            "color": "#2a3f5f"
           }
          },
          "ternary": {
           "aaxis": {
            "gridcolor": "white",
            "linecolor": "white",
            "ticks": ""
           },
           "baxis": {
            "gridcolor": "white",
            "linecolor": "white",
            "ticks": ""
           },
           "bgcolor": "#E5ECF6",
           "caxis": {
            "gridcolor": "white",
            "linecolor": "white",
            "ticks": ""
           }
          },
          "title": {
           "x": 0.05
          },
          "xaxis": {
           "automargin": true,
           "gridcolor": "white",
           "linecolor": "white",
           "ticks": "",
           "title": {
            "standoff": 15
           },
           "zerolinecolor": "white",
           "zerolinewidth": 2
          },
          "yaxis": {
           "automargin": true,
           "gridcolor": "white",
           "linecolor": "white",
           "ticks": "",
           "title": {
            "standoff": 15
           },
           "zerolinecolor": "white",
           "zerolinewidth": 2
          }
         }
        },
        "title": {
         "text": "Word Count Plots"
        },
        "width": 900,
        "xaxis": {
         "anchor": "y",
         "domain": [
          0,
          1
         ]
        },
        "yaxis": {
         "anchor": "x",
         "domain": [
          0,
          1
         ]
        }
       }
      }
     },
     "metadata": {},
     "output_type": "display_data"
    }
   ],
   "source": [
    "## Get the bar chart from sincere questions ##\n",
    "freq_dict = defaultdict(int)\n",
    "for sent in tweets_all_df['Tweet']:\n",
    "    for word in generate_ngrams(sent):\n",
    "        freq_dict[word] += 1\n",
    "fd_sorted = pd.DataFrame(sorted(freq_dict.items(), key=lambda x: x[1])[::-1])\n",
    "fd_sorted.columns = [\"word\", \"wordcount\"]\n",
    "trace0 = horizontal_bar_chart(fd_sorted.head(50), 'blue')\n",
    "\n",
    "\n",
    "fig = tools.make_subplots(rows=1, cols=1, vertical_spacing=0.04,\n",
    "                          subplot_titles=[\"Frequent words\"])\n",
    "fig.append_trace(trace0, 1, 1)\n",
    "fig['layout'].update(height=1200, width=900, paper_bgcolor='rgb(233,233,233)', title=\"Word Count Plots\")\n",
    "py.iplot(fig, filename='word-plots')"
   ]
  },
  {
   "cell_type": "code",
   "execution_count": 186,
   "metadata": {},
   "outputs": [],
   "source": [
    "# ¿Qué tipo de correlación matemática encuentras entre las métricas públicas?"
   ]
  },
  {
   "cell_type": "code",
   "execution_count": 190,
   "metadata": {},
   "outputs": [
    {
     "data": {
      "image/png": "[encoded data removed]",
      "text/plain": [
       "<Figure size 640x480 with 2 Axes>"
      ]
     },
     "metadata": {},
     "output_type": "display_data"
    }
   ],
   "source": [
    "sns.heatmap(tweets_all_df.corr(numeric_only= True), annot= True);"
   ]
  },
  {
   "cell_type": "code",
   "execution_count": 191,
   "metadata": {},
   "outputs": [],
   "source": [
    "# Hay una correlación lineal directa relevante entre likes y retweets (coef. 0.76)\n",
    "# Hay una correlación lineal directa más débil entre likes y replies (coef. 0.43)"
   ]
  },
  {
   "cell_type": "code",
   "execution_count": 192,
   "metadata": {},
   "outputs": [],
   "source": [
    "# ¿Has sacado alguna conclusión extra en tu análisis?"
   ]
  },
  {
   "cell_type": "code",
   "execution_count": 207,
   "metadata": {},
   "outputs": [],
   "source": [
    "# Análisis de sentimiento con modelo preentrenado"
   ]
  },
  {
   "cell_type": "code",
   "execution_count": null,
   "metadata": {},
   "outputs": [],
   "source": [
    "# ¿Cuáles son las predicciones? Interpreta los resultados"
   ]
  },
  {
   "cell_type": "code",
   "execution_count": 194,
   "metadata": {},
   "outputs": [
    {
     "data": {
      "text/plain": [
       "(277, 6)"
      ]
     },
     "execution_count": 194,
     "metadata": {},
     "output_type": "execute_result"
    }
   ],
   "source": [
    "tweets_all_df.shape"
   ]
  },
  {
   "cell_type": "code",
   "execution_count": 195,
   "metadata": {},
   "outputs": [
    {
     "data": {
      "text/plain": [
       "(275, 6)"
      ]
     },
     "execution_count": 195,
     "metadata": {},
     "output_type": "execute_result"
    }
   ],
   "source": [
    "# Eliminamos los duplicados\n",
    "tweets_all_df.drop_duplicates(subset = 'Tweet', inplace=True)\n",
    "tweets_all_df.shape"
   ]
  },
  {
   "cell_type": "code",
   "execution_count": 197,
   "metadata": {},
   "outputs": [
    {
     "data": {
      "text/plain": [
       "0    qué poco queda para el próximo 🔥burn monday🔥 l...\n",
       "1    esta es la historia de isis🤗 que decidió hacer...\n",
       "2    gracias victorianoi y equipo por el análisis c...\n",
       "3    cómo combatir el paro juvenil🥵 #tipdeldia en u...\n",
       "4    con ganas de probar si un empleo tecnológico e...\n",
       "Name: Tweet, dtype: object"
      ]
     },
     "execution_count": 197,
     "metadata": {},
     "output_type": "execute_result"
    }
   ],
   "source": [
    "# Quitar signos de puntuación\n",
    "import re\n",
    "\n",
    "signos = re.compile(\"(\\.)|(\\;)|(\\:)|(\\!)|(\\¡)|(\\?)|(\\¿)|(\\@)|(\\,)|(\\\")|(\\()|(\\))|(\\[)|(\\])|(\\d+)\")\n",
    "\n",
    "def signs_tweets(tweet):\n",
    "    return signos.sub('', tweet.lower())\n",
    "\n",
    "tweets_all_df['Tweet'] = tweets_all_df['Tweet'].apply(signs_tweets)\n",
    "tweets_all_df['Tweet'].head()"
   ]
  },
  {
   "cell_type": "code",
   "execution_count": 198,
   "metadata": {},
   "outputs": [],
   "source": [
    "# Quitar hipervínculos\n",
    "def remove_links(df):\n",
    "    return \" \".join(['{link}' if ('http') in word else word for word in df.split()])\n",
    "\n",
    "tweets_all_df['Tweet'] = tweets_all_df['Tweet'].apply(remove_links)"
   ]
  },
  {
   "cell_type": "code",
   "execution_count": 199,
   "metadata": {},
   "outputs": [
    {
     "data": {
      "text/plain": [
       "0    que poc qued par el proxim 🔥burn monday🔥 lun d...\n",
       "1    esta es la histori de isis🤗 que decid hac un c...\n",
       "2    graci victorianoi y equip por el analisis con ...\n",
       "3    com combat el par juvenil🥵 #tipdeldi en un pai...\n",
       "4    con gan de prob si un emple tecnolog es par ti...\n",
       "Name: Tweet, dtype: object"
      ]
     },
     "execution_count": 199,
     "metadata": {},
     "output_type": "execute_result"
    }
   ],
   "source": [
    "# Aplicar stemmer\n",
    "from nltk.stem.snowball import SnowballStemmer\n",
    "\n",
    "def spanish_stemmer(x):\n",
    "    stemmer = SnowballStemmer('spanish')\n",
    "    return \" \".join([stemmer.stem(word) for word in x.split()])\n",
    "\n",
    "tweets_all_df['Tweet'] = tweets_all_df['Tweet'].apply(spanish_stemmer)\n",
    "tweets_all_df['Tweet'].head()"
   ]
  },
  {
   "cell_type": "code",
   "execution_count": 200,
   "metadata": {},
   "outputs": [],
   "source": [
    "# Vectorizar dataset\n",
    "# from sklearn.feature_extraction.text import CountVectorizer\n",
    "\n",
    "# vectorizer = CountVectorizer(ngram_range=(1,2))\n",
    "# X = vectorizer.fit_transform(tweets_all_df['Tweet'])"
   ]
  },
  {
   "cell_type": "code",
   "execution_count": 206,
   "metadata": {},
   "outputs": [
    {
     "name": "stderr",
     "output_type": "stream",
     "text": [
      "/usr/lib/python3/dist-packages/sklearn/base.py:299: UserWarning:\n",
      "\n",
      "Trying to unpickle estimator CountVectorizer from version 1.0.2 when using version 1.2.1. This might lead to breaking code or invalid results. Use at your own risk. For more info please refer to:\n",
      "https://scikit-learn.org/stable/model_persistence.html#security-maintainability-limitations\n",
      "\n",
      "/usr/lib/python3/dist-packages/sklearn/base.py:299: UserWarning:\n",
      "\n",
      "Trying to unpickle estimator LogisticRegression from version 1.0.2 when using version 1.2.1. This might lead to breaking code or invalid results. Use at your own risk. For more info please refer to:\n",
      "https://scikit-learn.org/stable/model_persistence.html#security-maintainability-limitations\n",
      "\n",
      "/usr/lib/python3/dist-packages/sklearn/base.py:299: UserWarning:\n",
      "\n",
      "Trying to unpickle estimator Pipeline from version 1.0.2 when using version 1.2.1. This might lead to breaking code or invalid results. Use at your own risk. For more info please refer to:\n",
      "https://scikit-learn.org/stable/model_persistence.html#security-maintainability-limitations\n",
      "\n"
     ]
    },
    {
     "data": {
      "text/plain": [
       "<bound method Pipeline.get_feature_names_out of Pipeline(steps=[('vect',\n",
       "                 CountVectorizer(max_df=0.5, max_features=1000, min_df=5,\n",
       "                                 ngram_range=(1, 2))),\n",
       "                ('cls', LogisticRegression(C=0.5))])>"
      ]
     },
     "execution_count": 206,
     "metadata": {},
     "output_type": "execute_result"
    }
   ],
   "source": [
    "# Importamos el modelo preentrenado\n",
    "import pickle\n",
    "\n",
    "model = pickle.load(open('../model/sentiment_model', 'rb'))\n",
    "model.get_feature_names_out"
   ]
  },
  {
   "cell_type": "code",
   "execution_count": 203,
   "metadata": {},
   "outputs": [
    {
     "data": {
      "text/html": [
       "<div>\n",
       "<style scoped>\n",
       "    .dataframe tbody tr th:only-of-type {\n",
       "        vertical-align: middle;\n",
       "    }\n",
       "\n",
       "    .dataframe tbody tr th {\n",
       "        vertical-align: top;\n",
       "    }\n",
       "\n",
       "    .dataframe thead th {\n",
       "        text-align: right;\n",
       "    }\n",
       "</style>\n",
       "<table border=\"1\" class=\"dataframe\">\n",
       "  <thead>\n",
       "    <tr style=\"text-align: right;\">\n",
       "      <th></th>\n",
       "      <th>Date</th>\n",
       "      <th>User</th>\n",
       "      <th>Tweet</th>\n",
       "      <th>Likes</th>\n",
       "      <th>Retweets</th>\n",
       "      <th>Replies</th>\n",
       "      <th>Polarity</th>\n",
       "    </tr>\n",
       "  </thead>\n",
       "  <tbody>\n",
       "    <tr>\n",
       "      <th>0</th>\n",
       "      <td>2022-05-19 15:39:16</td>\n",
       "      <td>TheBridge_Tech</td>\n",
       "      <td>que poc qued par el proxim 🔥burn monday🔥 lun d...</td>\n",
       "      <td>0</td>\n",
       "      <td>2</td>\n",
       "      <td>0</td>\n",
       "      <td>1</td>\n",
       "    </tr>\n",
       "    <tr>\n",
       "      <th>1</th>\n",
       "      <td>2022-05-18 15:23:22</td>\n",
       "      <td>TheBridge_Tech</td>\n",
       "      <td>esta es la histori de isis🤗 que decid hac un c...</td>\n",
       "      <td>0</td>\n",
       "      <td>0</td>\n",
       "      <td>0</td>\n",
       "      <td>0</td>\n",
       "    </tr>\n",
       "    <tr>\n",
       "      <th>2</th>\n",
       "      <td>2022-05-18 11:26:31</td>\n",
       "      <td>TheBridge_Tech</td>\n",
       "      <td>graci victorianoi y equip por el analisis con ...</td>\n",
       "      <td>0</td>\n",
       "      <td>0</td>\n",
       "      <td>0</td>\n",
       "      <td>0</td>\n",
       "    </tr>\n",
       "    <tr>\n",
       "      <th>3</th>\n",
       "      <td>2022-05-18 08:31:13</td>\n",
       "      <td>Bcasapp</td>\n",
       "      <td>com combat el par juvenil🥵 #tipdeldi en un pai...</td>\n",
       "      <td>8</td>\n",
       "      <td>4</td>\n",
       "      <td>1</td>\n",
       "      <td>1</td>\n",
       "    </tr>\n",
       "    <tr>\n",
       "      <th>4</th>\n",
       "      <td>2022-05-17 14:53:47</td>\n",
       "      <td>TheBridge_Tech</td>\n",
       "      <td>con gan de prob si un emple tecnolog es par ti...</td>\n",
       "      <td>2</td>\n",
       "      <td>2</td>\n",
       "      <td>0</td>\n",
       "      <td>1</td>\n",
       "    </tr>\n",
       "  </tbody>\n",
       "</table>\n",
       "</div>"
      ],
      "text/plain": [
       "                 Date            User  \\\n",
       "0 2022-05-19 15:39:16  TheBridge_Tech   \n",
       "1 2022-05-18 15:23:22  TheBridge_Tech   \n",
       "2 2022-05-18 11:26:31  TheBridge_Tech   \n",
       "3 2022-05-18 08:31:13         Bcasapp   \n",
       "4 2022-05-17 14:53:47  TheBridge_Tech   \n",
       "\n",
       "                                               Tweet  Likes  Retweets  \\\n",
       "0  que poc qued par el proxim 🔥burn monday🔥 lun d...      0         2   \n",
       "1  esta es la histori de isis🤗 que decid hac un c...      0         0   \n",
       "2  graci victorianoi y equip por el analisis con ...      0         0   \n",
       "3  com combat el par juvenil🥵 #tipdeldi en un pai...      8         4   \n",
       "4  con gan de prob si un emple tecnolog es par ti...      2         2   \n",
       "\n",
       "   Replies  Polarity  \n",
       "0        0         1  \n",
       "1        0         0  \n",
       "2        0         0  \n",
       "3        1         1  \n",
       "4        0         1  "
      ]
     },
     "execution_count": 203,
     "metadata": {},
     "output_type": "execute_result"
    }
   ],
   "source": [
    "# Aplicar modelo para hacer predicción\n",
    "\n",
    "predictions = model.predict(tweets_all_df['Tweet'])\n",
    "tweets_all_df['Polarity'] = pd.Series(predictions)\n",
    "tweets_all_df.head()"
   ]
  },
  {
   "cell_type": "code",
   "execution_count": 227,
   "metadata": {},
   "outputs": [
    {
     "data": {
      "text/plain": [
       "114"
      ]
     },
     "execution_count": 227,
     "metadata": {},
     "output_type": "execute_result"
    }
   ],
   "source": [
    "tweets_all_df['Polarity'].value_counts()[1]"
   ]
  },
  {
   "cell_type": "code",
   "execution_count": 228,
   "metadata": {},
   "outputs": [
    {
     "data": {
      "text/plain": [
       "161"
      ]
     },
     "execution_count": 228,
     "metadata": {},
     "output_type": "execute_result"
    }
   ],
   "source": [
    "tweets_all_df['Polarity'].value_counts()[0]"
   ]
  },
  {
   "cell_type": "code",
   "execution_count": 232,
   "metadata": {},
   "outputs": [
    {
     "data": {
      "text/html": [
       "<div>\n",
       "<style scoped>\n",
       "    .dataframe tbody tr th:only-of-type {\n",
       "        vertical-align: middle;\n",
       "    }\n",
       "\n",
       "    .dataframe tbody tr th {\n",
       "        vertical-align: top;\n",
       "    }\n",
       "\n",
       "    .dataframe thead th {\n",
       "        text-align: right;\n",
       "    }\n",
       "</style>\n",
       "<table border=\"1\" class=\"dataframe\">\n",
       "  <thead>\n",
       "    <tr style=\"text-align: right;\">\n",
       "      <th></th>\n",
       "      <th>Tweet</th>\n",
       "      <th>Retweets</th>\n",
       "      <th>Polarity</th>\n",
       "    </tr>\n",
       "  </thead>\n",
       "  <tbody>\n",
       "    <tr>\n",
       "      <th>91</th>\n",
       "      <td>par reactiv ten meetup este mart de abril a la...</td>\n",
       "      <td>25</td>\n",
       "      <td>0</td>\n",
       "    </tr>\n",
       "    <tr>\n",
       "      <th>14</th>\n",
       "      <td>este de marz hay meetup en madr de bitcointues...</td>\n",
       "      <td>12</td>\n",
       "      <td>0</td>\n",
       "    </tr>\n",
       "    <tr>\n",
       "      <th>59</th>\n",
       "      <td>present cartelon par #databeersvq nos vem el j...</td>\n",
       "      <td>7</td>\n",
       "      <td>0</td>\n",
       "    </tr>\n",
       "    <tr>\n",
       "      <th>86</th>\n",
       "      <td>proxim meetup de bitcoin el de abril a las en ...</td>\n",
       "      <td>6</td>\n",
       "      <td>0</td>\n",
       "    </tr>\n",
       "    <tr>\n",
       "      <th>104</th>\n",
       "      <td>aun no has solicit tu bec par el #bootcamp de ...</td>\n",
       "      <td>5</td>\n",
       "      <td>1</td>\n",
       "    </tr>\n",
       "    <tr>\n",
       "      <th>...</th>\n",
       "      <td>...</td>\n",
       "      <td>...</td>\n",
       "      <td>...</td>\n",
       "    </tr>\n",
       "    <tr>\n",
       "      <th>31</th>\n",
       "      <td>thebridge_tech databeersvq vacolb andresmacari...</td>\n",
       "      <td>0</td>\n",
       "      <td>0</td>\n",
       "    </tr>\n",
       "    <tr>\n",
       "      <th>66</th>\n",
       "      <td>raulcotrin thebridge_tech craftcodetech codeho...</td>\n",
       "      <td>0</td>\n",
       "      <td>1</td>\n",
       "    </tr>\n",
       "    <tr>\n",
       "      <th>65</th>\n",
       "      <td>assemblerinstit thebridge_tech craftcodetech c...</td>\n",
       "      <td>0</td>\n",
       "      <td>0</td>\n",
       "    </tr>\n",
       "    <tr>\n",
       "      <th>64</th>\n",
       "      <td>andreamaganrey hol andre que gran trabaj estam...</td>\n",
       "      <td>0</td>\n",
       "      <td>0</td>\n",
       "    </tr>\n",
       "    <tr>\n",
       "      <th>3</th>\n",
       "      <td>bitcointuesday_ un plac</td>\n",
       "      <td>0</td>\n",
       "      <td>1</td>\n",
       "    </tr>\n",
       "  </tbody>\n",
       "</table>\n",
       "<p>275 rows × 3 columns</p>\n",
       "</div>"
      ],
      "text/plain": [
       "                                                 Tweet  Retweets  Polarity\n",
       "91   par reactiv ten meetup este mart de abril a la...        25         0\n",
       "14   este de marz hay meetup en madr de bitcointues...        12         0\n",
       "59   present cartelon par #databeersvq nos vem el j...         7         0\n",
       "86   proxim meetup de bitcoin el de abril a las en ...         6         0\n",
       "104  aun no has solicit tu bec par el #bootcamp de ...         5         1\n",
       "..                                                 ...       ...       ...\n",
       "31   thebridge_tech databeersvq vacolb andresmacari...         0         0\n",
       "66   raulcotrin thebridge_tech craftcodetech codeho...         0         1\n",
       "65   assemblerinstit thebridge_tech craftcodetech c...         0         0\n",
       "64   andreamaganrey hol andre que gran trabaj estam...         0         0\n",
       "3                              bitcointuesday_ un plac         0         1\n",
       "\n",
       "[275 rows x 3 columns]"
      ]
     },
     "execution_count": 232,
     "metadata": {},
     "output_type": "execute_result"
    }
   ],
   "source": [
    "tweets_all_df[['Tweet', 'Retweets', 'Polarity']].sort_values(by= 'Retweets', ascending= False)"
   ]
  },
  {
   "cell_type": "code",
   "execution_count": 204,
   "metadata": {},
   "outputs": [
    {
     "data": {
      "text/plain": [
       "<AxesSubplot:>"
      ]
     },
     "execution_count": 204,
     "metadata": {},
     "output_type": "execute_result"
    },
    {
     "data": {
      "image/png": "[encoded data removed]",
      "text/plain": [
       "<Figure size 640x480 with 2 Axes>"
      ]
     },
     "metadata": {},
     "output_type": "display_data"
    }
   ],
   "source": [
    "sns.heatmap(tweets_all_df.corr(numeric_only= True), annot= True);"
   ]
  },
  {
   "cell_type": "code",
   "execution_count": 210,
   "metadata": {},
   "outputs": [],
   "source": [
    "# ¿Qué variables son las más importantes del modelo?"
   ]
  },
  {
   "cell_type": "code",
   "execution_count": 220,
   "metadata": {},
   "outputs": [
    {
     "name": "stdout",
     "output_type": "stream",
     "text": [
      "1000\n"
     ]
    }
   ],
   "source": [
    "cv = model.named_steps[\"vect\"]\n",
    "cv.fit(tweets_all_df['Tweet'])\n",
    "X = cv.transform(tweets_all_df['Tweet'])\n",
    "\n",
    "# Importancia de los coeficientes. En total, todas las palabras vectorizadas\n",
    "print(len(model.named_steps[\"cls\"].coef_[0]))\n",
    "\n",
    "# Cada coeficiente va asociado a una palabra\n",
    "cv.get_feature_names_out()\n",
    "\n",
    "# Montamos un diccionario con palabra -> coeficiente\n",
    "feature_to_coef = {\n",
    "    word: coef for word, coef in zip(\n",
    "        cv.get_feature_names_out(), model.named_steps[\"cls\"].coef_[0]\n",
    "    )\n",
    "}"
   ]
  },
  {
   "cell_type": "code",
   "execution_count": 221,
   "metadata": {},
   "outputs": [
    {
     "name": "stdout",
     "output_type": "stream",
     "text": [
      "('masterclass', 1.427233666085361)\n",
      "('olya_borderless', 1.4022058325629765)\n",
      "('dond', 1.368604445686843)\n",
      "('inform', 1.3429067328197288)\n",
      "('organiz', 1.3421786219043959)\n",
      "################################\n",
      "('svq_tech', -1.8605111981502893)\n",
      "('te', -1.8449366081495842)\n",
      "('el futur', -1.6751185631684895)\n",
      "('dirig', -1.459032652806634)\n",
      "('la realiz', -1.346429032909559)\n"
     ]
    }
   ],
   "source": [
    "# Lista de las 5 variables más importantes para sentimiento positivo y para negativo\n",
    "\n",
    "for best_positive in sorted(\n",
    "    feature_to_coef.items(), \n",
    "    key=lambda x: x[1], \n",
    "    reverse=True)[:5]:\n",
    "    print(best_positive)\n",
    "    \n",
    "print('################################')\n",
    "for best_negative in sorted(\n",
    "    feature_to_coef.items(), \n",
    "    key=lambda x: x[1])[:5]:\n",
    "    print(best_negative)"
   ]
  },
  {
   "cell_type": "code",
   "execution_count": null,
   "metadata": {},
   "outputs": [],
   "source": [
    "# ¿Cómo podrías mejorar el modelo?"
   ]
  },
  {
   "cell_type": "markdown",
   "metadata": {},
   "source": [
    "Podríamos hacer un preprocesado más elaborado, teniendo en cuenta:\n",
    "1. Hashtags\n",
    "2. Menciones\n",
    "3. Abreviaturas\n",
    "4. Faltas de ortografía\n",
    "5. Risas\n",
    "6. Emojis\n",
    "\n",
    "Podríamos probar más modelos (por ejemplo SVM con kernel lineal), con distintos hiperparámetros, para dar con uno mejor."
   ]
  },
  {
   "cell_type": "code",
   "execution_count": null,
   "metadata": {},
   "outputs": [],
   "source": [
    "# ¿Qué otras oportunidades se te ocurren donde se podrían aplicar otros modelos de ML?"
   ]
  }
 ],
 "metadata": {
  "kernelspec": {
   "display_name": "Python 3",
   "language": "python",
   "name": "python3"
  },
  "language_info": {
   "codemirror_mode": {
    "name": "ipython",
    "version": 3
   },
   "file_extension": ".py",
   "mimetype": "text/x-python",
   "name": "python",
   "nbconvert_exporter": "python",
   "pygments_lexer": "ipython3",
   "version": "3.11.4"
  }
 },
 "nbformat": 4,
 "nbformat_minor": 2
}
